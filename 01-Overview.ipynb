{
 "cells": [
  {
   "cell_type": "code",
   "execution_count": 1,
   "id": "679b377c",
   "metadata": {},
   "outputs": [
    {
     "name": "stderr",
     "output_type": "stream",
     "text": [
      "c:\\Users\\gabri_4rc\\Documents\\GitHub\\edgartools_learn\\.venv\\Lib\\site-packages\\tqdm\\auto.py:21: TqdmWarning: IProgress not found. Please update jupyter and ipywidgets. See https://ipywidgets.readthedocs.io/en/stable/user_install.html\n",
      "  from .autonotebook import tqdm as notebook_tqdm\n"
     ]
    }
   ],
   "source": [
    "# Setting things up  \n",
    "# [Overview](https://edgartools.readthedocs.io/en/latest/)\n",
    "\n",
    "# 1. Import the library\n",
    "from edgar import *\n",
    "from tqdm.notebook import tqdm\n",
    "\n",
    "# 2. Tell the SEC who you are (required by SEC regulations)\n",
    "set_identity(\"email@address.com\")  # Replace with your email\n",
    "# or\n",
    "# Setting your identity using an environment variable\n",
    "# You can also set your identity using an environment variable. \n",
    "# This is useful if you are using the library in a script or notebook.\n",
    "\n",
    "# export EDGAR_IDENTITY=\"email@address.com\""
   ]
  },
  {
   "cell_type": "code",
   "execution_count": 2,
   "id": "3cdf0818",
   "metadata": {},
   "outputs": [],
   "source": [
    "# Retrieve data\n",
    "\n",
    "# 3. Getting Filings\n",
    "filings = get_filings(year=2021)\n"
   ]
  },
  {
   "cell_type": "code",
   "execution_count": 3,
   "id": "daf0e6d6",
   "metadata": {},
   "outputs": [
    {
     "data": {
      "text/plain": [
       "\u001b[1;90m┌─\u001b[0m\u001b[1;90m───────────────────────────────────────────────────\u001b[0m\u001b[1;90m SEC Filings \u001b[0m\u001b[1;90m───────────────────────────────────────────────────\u001b[0m\u001b[1;90m─┐\u001b[0m\n",
       "\u001b[1;90m│\u001b[0m                                                                                                                     \u001b[1;90m│\u001b[0m\n",
       "\u001b[1;90m│\u001b[0m  \u001b[1m \u001b[0m\u001b[1m#\u001b[0m\u001b[1m \u001b[0m \u001b[1m \u001b[0m\u001b[1mForm   \u001b[0m\u001b[1m \u001b[0m \u001b[1m \u001b[0m\u001b[1m       CIK\u001b[0m\u001b[1m \u001b[0m \u001b[1m \u001b[0m\u001b[1mTicker\u001b[0m\u001b[1m \u001b[0m \u001b[1m \u001b[0m\u001b[1mCompany                               \u001b[0m\u001b[1m \u001b[0m \u001b[1m \u001b[0m\u001b[1mFiling Date\u001b[0m\u001b[1m \u001b[0m \u001b[1m \u001b[0m\u001b[1mAccession Number    \u001b[0m\u001b[1m \u001b[0m  \u001b[1;90m│\u001b[0m\n",
       "\u001b[1;90m│\u001b[0m  ─────────────────────────────────────────────────────────────────────────────────────────────────────────────────  \u001b[1;90m│\u001b[0m\n",
       "\u001b[1;90m│\u001b[0m  \u001b[2m \u001b[0m\u001b[2m0\u001b[0m\u001b[2m \u001b[0m  UPLOAD   \u001b[2m \u001b[0m\u001b[2m   1801417\u001b[0m\u001b[2m \u001b[0m \u001b[33m \u001b[0m\u001b[33mBYNO  \u001b[0m\u001b[33m \u001b[0m \u001b[1;32m \u001b[0m\u001b[1;32mbyNordic Acquisition Corp             \u001b[0m\u001b[1;32m \u001b[0m  2021-12-31    \u001b[2m0000000000\u001b[0m-\u001b[94m21\u001b[0m-\u001b[2m0\u001b[0m\u001b[1;37m15509\u001b[0m   \u001b[1;90m│\u001b[0m\n",
       "\u001b[1;90m│\u001b[0m  \u001b[1;2m \u001b[0m\u001b[1;2m1\u001b[0m\u001b[1;2m \u001b[0m \u001b[1m \u001b[0m\u001b[1m10-Q   \u001b[0m\u001b[1m \u001b[0m \u001b[1;2m \u001b[0m\u001b[1;2m   1879373\u001b[0m\u001b[1;2m \u001b[0m \u001b[1;33m \u001b[0m\u001b[1;33mGTI   \u001b[0m\u001b[1;33m \u001b[0m \u001b[1;32m \u001b[0m\u001b[1;32mEnergem Corp                          \u001b[0m\u001b[1;32m \u001b[0m \u001b[1m \u001b[0m\u001b[1m2021-12-30 \u001b[0m\u001b[1m \u001b[0m \u001b[1m \u001b[0m\u001b[1;2m000\u001b[0m\u001b[1;37m1493152\u001b[0m\u001b[1m-\u001b[0m\u001b[1;94m21\u001b[0m\u001b[1m-\u001b[0m\u001b[1;2m0\u001b[0m\u001b[1;37m32779\u001b[0m\u001b[1m \u001b[0m  \u001b[1;90m│\u001b[0m\n",
       "\u001b[1;90m│\u001b[0m  \u001b[2m \u001b[0m\u001b[2m2\u001b[0m\u001b[2m \u001b[0m  10-Q     \u001b[2m \u001b[0m\u001b[2m   1867956\u001b[0m\u001b[2m \u001b[0m \u001b[33m \u001b[0m\u001b[33m      \u001b[0m\u001b[33m \u001b[0m \u001b[1;32m \u001b[0m\u001b[1;32mLinktory Inc.                         \u001b[0m\u001b[1;32m \u001b[0m  2021-12-30    \u001b[2m000\u001b[0m\u001b[1;37m1683168\u001b[0m-\u001b[94m21\u001b[0m-\u001b[2m00\u001b[0m\u001b[1;37m6658\u001b[0m   \u001b[1;90m│\u001b[0m\n",
       "\u001b[1;90m│\u001b[0m  \u001b[1;2m \u001b[0m\u001b[1;2m3\u001b[0m\u001b[1;2m \u001b[0m \u001b[1m \u001b[0m\u001b[1m10-Q   \u001b[0m\u001b[1m \u001b[0m \u001b[1;2m \u001b[0m\u001b[1;2m    711377\u001b[0m\u001b[1;2m \u001b[0m \u001b[1;33m \u001b[0m\u001b[1;33mNEOG  \u001b[0m\u001b[1;33m \u001b[0m \u001b[1;32m \u001b[0m\u001b[1;32mNEOGEN CORP                           \u001b[0m\u001b[1;32m \u001b[0m \u001b[1m \u001b[0m\u001b[1m2021-12-30 \u001b[0m\u001b[1m \u001b[0m \u001b[1m \u001b[0m\u001b[1;2m000\u001b[0m\u001b[1;37m1193125\u001b[0m\u001b[1m-\u001b[0m\u001b[1;94m21\u001b[0m\u001b[1m-\u001b[0m\u001b[1;37m370461\u001b[0m\u001b[1m \u001b[0m  \u001b[1;90m│\u001b[0m\n",
       "\u001b[1;90m│\u001b[0m  \u001b[2m \u001b[0m\u001b[2m4\u001b[0m\u001b[2m \u001b[0m  10-Q     \u001b[2m \u001b[0m\u001b[2m   1796160\u001b[0m\u001b[2m \u001b[0m \u001b[33m \u001b[0m\u001b[33m      \u001b[0m\u001b[33m \u001b[0m \u001b[1;32m \u001b[0m\u001b[1;32mQMIS TBS Capital Group Corp.          \u001b[0m\u001b[1;32m \u001b[0m  2021-12-30    \u001b[2m000\u001b[0m\u001b[1;37m1096906\u001b[0m-\u001b[94m21\u001b[0m-\u001b[2m00\u001b[0m\u001b[1;37m3094\u001b[0m   \u001b[1;90m│\u001b[0m\n",
       "\u001b[1;90m│\u001b[0m                                                                                                                     \u001b[1;90m│\u001b[0m\n",
       "\u001b[1;90m└─\u001b[0m\u001b[1;90m──────────────────────────────────\u001b[0m\u001b[1;90m SEC Filings between 2021-12-30 and 2021-12-31 \u001b[0m\u001b[1;90m──────────────────────────────────\u001b[0m\u001b[1;90m─┘\u001b[0m"
      ]
     },
     "execution_count": null,
     "metadata": {},
     "output_type": "execute_result"
    }
   ],
   "source": [
    "# Check the first few filings\n",
    "filings.head(n=5)"
   ]
  },
  {
   "cell_type": "code",
   "execution_count": 4,
   "id": "000ec1ad",
   "metadata": {},
   "outputs": [
    {
     "data": {
      "text/plain": [
       "1171972"
      ]
     },
     "execution_count": null,
     "metadata": {},
     "output_type": "execute_result"
    }
   ],
   "source": [
    "# Check the number of filings retrieved\n",
    "len(filings)    "
   ]
  },
  {
   "cell_type": "code",
   "execution_count": null,
   "id": "e434d505",
   "metadata": {},
   "outputs": [],
   "source": [
    "# Retrieve 3rd filing from the list of filings\n",
    "filing = filings[3]"
   ]
  },
  {
   "cell_type": "markdown",
   "id": "86c360b2",
   "metadata": {},
   "source": [
    "***Paginating filings***  \n",
    "The Filings object is a container for a list of filings. The list of filings can be large but by default you can only see the first page of filings.  \n",
    "To change the page, you can paginate filings using the next and prev methods. For example:  \n",
    "\n",
    "```python\n",
    "filings.next()\n",
    "filings.previous()\n",
    "```\n",
    "***Looping through filings***   \n",
    "```python\n",
    "filings = get_filings()\n",
    "for filing in filings:\n",
    "    # Do something with the filing\n",
    "```"
   ]
  },
  {
   "cell_type": "code",
   "execution_count": null,
   "id": "80f34d78",
   "metadata": {},
   "outputs": [],
   "source": [
    "# Getting a company\n",
    "\n",
    "c = Company(\"AAPL\") \n",
    "# or\n",
    "# c = Company(\"0000320193\")\n",
    "c\n"
   ]
  },
  {
   "cell_type": "code",
   "execution_count": null,
   "id": "6bdf7a19",
   "metadata": {},
   "outputs": [],
   "source": [
    "# Getting the filing of the company\n",
    "filings = c.get_filings()\n",
    "filings.head(n=1000)  \n"
   ]
  },
  {
   "cell_type": "code",
   "execution_count": null,
   "id": "33cc013f",
   "metadata": {},
   "outputs": [],
   "source": [
    "# Getting Company Facts\n",
    "facts = c.get_facts()\n",
    "facts"
   ]
  },
  {
   "cell_type": "code",
   "execution_count": null,
   "id": "15f3de67",
   "metadata": {},
   "outputs": [],
   "source": [
    "# Company Facts into a Pandas DataFrame\n",
    "facts =  facts.to_pandas()\n",
    "facts.head(n=5)"
   ]
  },
  {
   "cell_type": "code",
   "execution_count": 21,
   "id": "0419841d",
   "metadata": {},
   "outputs": [],
   "source": [
    "# Getting Company Financials\n",
    "financials = c.get_financials()\n"
   ]
  },
  {
   "cell_type": "code",
   "execution_count": 22,
   "id": "3b0a9e9f",
   "metadata": {},
   "outputs": [
    {
     "data": {
      "text/html": [
       "<pre style=\"white-space:pre;overflow-x:auto;line-height:normal;font-family:Menlo,'DejaVu Sans Mono',consolas,'Courier New',monospace\"></pre>\n"
      ],
      "text/plain": []
     },
     "metadata": {},
     "output_type": "display_data"
    },
    {
     "data": {
      "text/plain": [
       "\u001b[3m                          Consolidated Statement of Income (Standardized)                          \u001b[0m\n",
       "\u001b[3m                       \u001b[0m\u001b[1;3mYear Ended\u001b[0m\u001b[3m \u001b[0m\u001b[3m(In millions, except shares in thousands)\u001b[0m\u001b[3m                        \u001b[0m\n",
       "                                                                                                   \n",
       " \u001b[1m \u001b[0m\u001b[1m                                                  \u001b[0m\u001b[1m \u001b[0m \u001b[1m \u001b[0m\u001b[1mset 28, 2024\u001b[0m\u001b[1m \u001b[0m \u001b[1m \u001b[0m\u001b[1mset 30, 2023\u001b[0m\u001b[1m \u001b[0m \u001b[1m \u001b[0m\u001b[1mset 24, 2022\u001b[0m\u001b[1m \u001b[0m \n",
       " ───────────────────────────────────────────────────────────────────────────────────────────────── \n",
       "        Net sales                                          $391,035       $383,285       $394,328  \n",
       "        Cost of sales                                    $(210,352)     $(214,137)     $(223,546)  \n",
       "        Gross margin                                       $180,683       $169,148       $170,782  \n",
       "        Operating Expenses                                                                         \n",
       "          Research and development                          $31,370        $29,915        $26,251  \n",
       "          Selling, general and administrative               $26,097        $24,932        $25,094  \n",
       "          Total operating expenses                        $(57,467)      $(54,847)      $(51,345)  \n",
       "        Operating Income                                   $123,216       $114,301       $119,437  \n",
       "        Other income/(expense), net                            $269         $(565)         $(334)  \n",
       "        Income before provision for income taxes           $123,485       $113,736       $119,103  \n",
       "        Provision for income taxes                          $29,749        $16,741        $19,300  \n",
       "        Net Income                                          $93,736        $96,995        $99,803  \n",
       "        Earnings per share:                                                                        \n",
       "          Basic (in dollars per share)                         0.00           0.00           0.00  \n",
       "          Diluted (in dollars per share)                       0.00           0.00           0.00  \n",
       "        Shares used in computing earnings per share:                                               \n",
       "          Basic (in shares)                              15,343,783     15,744,231     16,215,963  \n",
       "          Diluted (in shares)                            15,408,095     15,812,547     16,325,819  \n",
       "                                                                                                   "
      ]
     },
     "execution_count": 22,
     "metadata": {},
     "output_type": "execute_result"
    }
   ],
   "source": [
    "financials.income_statement()"
   ]
  },
  {
   "cell_type": "code",
   "execution_count": 23,
   "id": "0cacc209",
   "metadata": {},
   "outputs": [
    {
     "data": {
      "text/html": [
       "<pre style=\"white-space:pre;overflow-x:auto;line-height:normal;font-family:Menlo,'DejaVu Sans Mono',consolas,'Courier New',monospace\"></pre>\n"
      ],
      "text/plain": []
     },
     "metadata": {},
     "output_type": "display_data"
    },
    {
     "data": {
      "text/plain": [
       "\u001b[3m                                    Consolidated Balance Sheets (Standardized)                                     \u001b[0m\n",
       "\u001b[3m                            \u001b[0m\u001b[1;3mFiscal Year Ended\u001b[0m\u001b[3m \u001b[0m\u001b[3m(In millions, except shares in thousands)\u001b[0m\u001b[3m                            \u001b[0m\n",
       "                                                                                                                   \n",
       " \u001b[1m \u001b[0m\u001b[1m                                                                     \u001b[0m\u001b[1m \u001b[0m \u001b[1m \u001b[0m\u001b[1msettembre 28, 2024\u001b[0m\u001b[1m \u001b[0m \u001b[1m \u001b[0m\u001b[1msettembre 30, 2023\u001b[0m\u001b[1m \u001b[0m \n",
       " ───────────────────────────────────────────────────────────────────────────────────────────────────────────────── \n",
       "    ASSETS:                                                                                                        \n",
       "      Current assets:                                                                                              \n",
       "        Cash and Cash Equivalents                                                    $29,943              $29,965  \n",
       "        Marketable securities                                                        $35,228              $31,590  \n",
       "        Accounts receivable, net                                                     $33,410              $29,508  \n",
       "        Vendor non-trade receivables                                                 $32,833              $31,477  \n",
       "        Inventories                                                                   $7,286               $6,331  \n",
       "        Other current assets                                                         $14,287              $14,695  \n",
       "        Total Current Assets                                                        $152,987             $143,566  \n",
       "      Non-current assets:                                                                                          \n",
       "        Marketable securities                                                        $91,479             $100,544  \n",
       "        Property, Plant and Equipment                                                $45,680              $43,715  \n",
       "        Other non-current assets                                                     $74,834              $64,758  \n",
       "        Total Current Assets                                                        $211,993             $209,017  \n",
       "      Total Assets                                                                  $364,980             $352,583  \n",
       "    LIABILITIES AND SHAREHOLDERS’ EQUITY:                                                                          \n",
       "      Current liabilities:                                                                                         \n",
       "        Accounts Payable                                                             $68,960              $62,611  \n",
       "        Other current liabilities                                                    $78,304              $58,829  \n",
       "        Revenue                                                                       $8,249               $8,061  \n",
       "        Commercial paper                                                              $9,967               $5,985  \n",
       "        Term debt                                                                    $10,912               $9,822  \n",
       "        Total Current Liabilities                                                   $176,392             $145,308  \n",
       "      Non-current liabilities:                                                                                     \n",
       "        Term debt                                                                    $85,750              $95,281  \n",
       "        Other non-current liabilities                                                $45,888              $49,848  \n",
       "        Total Current Liabilities                                                   $131,638             $145,129  \n",
       "      Total Liabilities                                                             $308,030             $290,437  \n",
       "      Commitments and contingencies                                                                                \n",
       "      Common stock, shares outstanding (in shares)                                15,116,786           15,550,061  \n",
       "      Common stock, shares issued (in shares)                                     15,116,786           15,550,061  \n",
       "      Shareholders’ equity:                                                                                        \n",
       "        Common stock and additional paid-in capital, $0.00001 par                    $83,276              $73,812  \n",
       "  value: 50,400,000 shares authorized; 15,116,786 and 15,550,061 shares                                            \n",
       "  issued and outstanding, respectively                                                                             \n",
       "        Accumulated deficit                                                        $(19,154)               $(214)  \n",
       "        Accumulated other comprehensive loss                                        $(7,172)            $(11,452)  \n",
       "        Total Stockholders' Equity                                                   $56,950              $62,146  \n",
       "      Total liabilities and shareholders’ equity                                    $364,980             $352,583  \n",
       "                                                                                                                   "
      ]
     },
     "execution_count": 23,
     "metadata": {},
     "output_type": "execute_result"
    }
   ],
   "source": [
    "financials.balance_sheet()"
   ]
  },
  {
   "cell_type": "code",
   "execution_count": 27,
   "id": "69ee15a9",
   "metadata": {},
   "outputs": [
    {
     "data": {
      "text/html": [
       "<pre style=\"white-space:pre;overflow-x:auto;line-height:normal;font-family:Menlo,'DejaVu Sans Mono',consolas,'Courier New',monospace\"></pre>\n"
      ],
      "text/plain": []
     },
     "metadata": {},
     "output_type": "display_data"
    },
    {
     "data": {
      "text/plain": [
       "\u001b[3m                                Consolidated Statement of Cash Flows (Standardized)                                \u001b[0m\n",
       "\u001b[3m                                  \u001b[0m\u001b[1;3mYear Ended\u001b[0m\u001b[3m \u001b[0m\u001b[3m(In millions, except per share data)\u001b[0m\u001b[3m                                  \u001b[0m\n",
       "                                                                                                                   \n",
       " \u001b[1m \u001b[0m\u001b[1m                                                                  \u001b[0m\u001b[1m \u001b[0m \u001b[1m \u001b[0m\u001b[1mset 28, 2024\u001b[0m\u001b[1m \u001b[0m \u001b[1m \u001b[0m\u001b[1mset 30, 2023\u001b[0m\u001b[1m \u001b[0m \u001b[1m \u001b[0m\u001b[1mset 24, 2022\u001b[0m\u001b[1m \u001b[0m \n",
       " ───────────────────────────────────────────────────────────────────────────────────────────────────────────────── \n",
       "    Cash, cash equivalents, and restricted cash and cash                                                           \n",
       "  equivalents, ending balances                                                                                     \n",
       "    Operating activities:                                                                                          \n",
       "      Net Income                                                            $93,736        $96,995        $99,803  \n",
       "      Net Income                                                                                                   \n",
       "        Depreciation and amortization                                       $11,445        $11,519        $11,104  \n",
       "        Share-based compensation expense                                    $11,688        $10,833         $9,038  \n",
       "        Other                                                              $(2,266)       $(2,227)         $1,006  \n",
       "        Changes in operating assets and liabilities:                                                               \n",
       "          Accounts receivable, net                                         $(3,788)       $(1,688)       $(1,823)  \n",
       "          Vendor non-trade receivables                                     $(1,356)         $1,271       $(7,520)  \n",
       "          Inventories                                                      $(1,046)       $(1,618)         $1,484  \n",
       "          Other current and non-current assets                            $(11,731)       $(5,684)       $(6,499)  \n",
       "          Accounts Payable                                                   $6,020       $(1,889)         $9,448  \n",
       "          Other current and non-current liabilities                         $15,552         $3,031         $6,110  \n",
       "      Cash generated by operating activities                               $118,254       $110,543       $122,151  \n",
       "    Investing activities:                                                                                          \n",
       "      Purchases of marketable securities                                  $(48,656)      $(29,513)      $(76,923)  \n",
       "      Proceeds from maturities of marketable securities                     $51,211        $39,686        $29,917  \n",
       "      Proceeds from sales of marketable securities                          $11,135         $5,828        $37,446  \n",
       "      Payments for acquisition of property, plant and equipment            $(9,447)      $(10,959)      $(10,708)  \n",
       "      Other                                                                $(1,308)       $(1,337)       $(2,086)  \n",
       "      Cash generated by/(used in) investing activities                       $2,935         $3,705      $(22,354)  \n",
       "    Financing activities:                                                                                          \n",
       "      Payments for taxes related to net share settlement of equity         $(5,441)       $(5,431)       $(6,223)  \n",
       "  awards                                                                                                           \n",
       "      Payments for dividends and dividend equivalents                     $(15,234)      $(15,025)      $(14,841)  \n",
       "      Repurchases of common stock                                         $(94,949)      $(77,550)      $(89,402)  \n",
       "      Proceeds from issuance of term debt, net                                              $5,228         $5,465  \n",
       "      Repayments of term debt                                              $(9,958)      $(11,151)       $(9,543)  \n",
       "      Proceeds from/(Repayments of) commercial paper, net                    $3,960       $(3,978)         $3,955  \n",
       "      Other                                                                  $(361)         $(581)         $(160)  \n",
       "      Cash used in financing activities                                  $(121,983)     $(108,488)     $(110,749)  \n",
       "    Increase/(Decrease) in cash, cash equivalents, and restricted            $(794)         $5,760      $(10,952)  \n",
       "  cash and cash equivalents                                                                                        \n",
       "    Cash, cash equivalents, and restricted cash and cash                                                           \n",
       "  equivalents, ending balances                                                                                     \n",
       "    Supplemental cash flow disclosure:                                                                             \n",
       "      Cash paid for income taxes, net                                       $26,102        $18,679        $19,573  \n",
       "                                                                                                                   "
      ]
     },
     "execution_count": 27,
     "metadata": {},
     "output_type": "execute_result"
    }
   ],
   "source": [
    "financials.cashflow_statement()"
   ]
  },
  {
   "cell_type": "code",
   "execution_count": 4,
   "id": "c082d306",
   "metadata": {},
   "outputs": [
    {
     "data": {
      "text/html": [
       "<pre style=\"white-space:pre;overflow-x:auto;line-height:normal;font-family:Menlo,'DejaVu Sans Mono',consolas,'Courier New',monospace\"></pre>\n"
      ],
      "text/plain": []
     },
     "metadata": {},
     "output_type": "display_data"
    },
    {
     "data": {
      "text/plain": [
       "\u001b[1;38;5;245m╭─\u001b[0m\u001b[1;38;5;245m─────────────────────────────────────────────────\u001b[0m\u001b[1;38;5;245m SEC Filings \u001b[0m\u001b[1;38;5;245m─────────────────────────────────────────────────\u001b[0m\u001b[1;38;5;245m─╮\u001b[0m\n",
       "\u001b[1;38;5;245m│\u001b[0m                                                                                                                 \u001b[1;38;5;245m│\u001b[0m\n",
       "\u001b[1;38;5;245m│\u001b[0m   \u001b[1m \u001b[0m\u001b[1mForm   \u001b[0m\u001b[1m \u001b[0m \u001b[1m \u001b[0m\u001b[1m       CIK\u001b[0m\u001b[1m \u001b[0m \u001b[1m \u001b[0m\u001b[1mTicker\u001b[0m\u001b[1m \u001b[0m \u001b[1m \u001b[0m\u001b[1mCompany                               \u001b[0m\u001b[1m \u001b[0m \u001b[1m \u001b[0m\u001b[1mFiling Date\u001b[0m\u001b[1m \u001b[0m \u001b[1m \u001b[0m\u001b[1mAccession Number   \u001b[0m\u001b[1m \u001b[0m  \u001b[1;38;5;245m│\u001b[0m\n",
       "\u001b[1;38;5;245m│\u001b[0m  ─────────────────────────────────────────────────────────────────────────────────────────────────────────────  \u001b[1;38;5;245m│\u001b[0m\n",
       "\u001b[1;38;5;245m│\u001b[0m    4        \u001b[2m \u001b[0m\u001b[2m0001855767\u001b[0m\u001b[2m \u001b[0m \u001b[33m \u001b[0m\u001b[33m      \u001b[0m\u001b[33m \u001b[0m \u001b[1;32m \u001b[0m\u001b[1;32mDines Daniel                          \u001b[0m\u001b[1;32m \u001b[0m  2025-06-20   \u001b[2m \u001b[0m\u001b[2m0001562180-25-0049…\u001b[0m\u001b[2m \u001b[0m  \u001b[1;38;5;245m│\u001b[0m\n",
       "\u001b[1;38;5;245m│\u001b[0m   \u001b[1m \u001b[0m\u001b[1m4      \u001b[0m\u001b[1m \u001b[0m \u001b[1;2m \u001b[0m\u001b[1;2m0001734722\u001b[0m\u001b[1;2m \u001b[0m \u001b[1;33m \u001b[0m\u001b[1;33mPATH  \u001b[0m\u001b[1;33m \u001b[0m \u001b[1;32m \u001b[0m\u001b[1;32mUiPath, Inc.                          \u001b[0m\u001b[1;32m \u001b[0m \u001b[1m \u001b[0m\u001b[1m2025-06-20 \u001b[0m\u001b[1m \u001b[0m \u001b[1;2m \u001b[0m\u001b[1;2m0001562180-25-0049…\u001b[0m\u001b[1;2m \u001b[0m  \u001b[1;38;5;245m│\u001b[0m\n",
       "\u001b[1;38;5;245m│\u001b[0m    4        \u001b[2m \u001b[0m\u001b[2m0001750052\u001b[0m\u001b[2m \u001b[0m \u001b[33m \u001b[0m\u001b[33m      \u001b[0m\u001b[33m \u001b[0m \u001b[1;32m \u001b[0m\u001b[1;32mStillwell Mary-Lee                    \u001b[0m\u001b[1;32m \u001b[0m  2025-06-20   \u001b[2m \u001b[0m\u001b[2m0001062993-25-0119…\u001b[0m\u001b[2m \u001b[0m  \u001b[1;38;5;245m│\u001b[0m\n",
       "\u001b[1;38;5;245m│\u001b[0m   \u001b[1m \u001b[0m\u001b[1m4      \u001b[0m\u001b[1m \u001b[0m \u001b[1;2m \u001b[0m\u001b[1;2m0000732712\u001b[0m\u001b[1;2m \u001b[0m \u001b[1;33m \u001b[0m\u001b[1;33mVZ    \u001b[0m\u001b[1;33m \u001b[0m \u001b[1;32m \u001b[0m\u001b[1;32mVERIZON COMMUNICATIONS INC            \u001b[0m\u001b[1;32m \u001b[0m \u001b[1m \u001b[0m\u001b[1m2025-06-20 \u001b[0m\u001b[1m \u001b[0m \u001b[1;2m \u001b[0m\u001b[1;2m0001062993-25-0119…\u001b[0m\u001b[1;2m \u001b[0m  \u001b[1;38;5;245m│\u001b[0m\n",
       "\u001b[1;38;5;245m│\u001b[0m    4        \u001b[2m \u001b[0m\u001b[2m0001955281\u001b[0m\u001b[2m \u001b[0m \u001b[33m \u001b[0m\u001b[33m      \u001b[0m\u001b[33m \u001b[0m \u001b[1;32m \u001b[0m\u001b[1;32mTYNDALL JOSEPH A.                     \u001b[0m\u001b[1;32m \u001b[0m  2025-06-20   \u001b[2m \u001b[0m\u001b[2m0000805928-25-0001…\u001b[0m\u001b[2m \u001b[0m  \u001b[1;38;5;245m│\u001b[0m\n",
       "\u001b[1;38;5;245m│\u001b[0m   \u001b[1m \u001b[0m\u001b[1mARS    \u001b[0m\u001b[1m \u001b[0m \u001b[1;2m \u001b[0m\u001b[1;2m0001646972\u001b[0m\u001b[1;2m \u001b[0m \u001b[1;33m \u001b[0m\u001b[1;33mACI   \u001b[0m\u001b[1;33m \u001b[0m \u001b[1;32m \u001b[0m\u001b[1;32mAlbertsons Companies, Inc.            \u001b[0m\u001b[1;32m \u001b[0m \u001b[1m \u001b[0m\u001b[1m2025-06-20 \u001b[0m\u001b[1m \u001b[0m \u001b[1;2m \u001b[0m\u001b[1;2m0001140361-25-0231…\u001b[0m\u001b[1;2m \u001b[0m  \u001b[1;38;5;245m│\u001b[0m\n",
       "\u001b[1;38;5;245m│\u001b[0m    4        \u001b[2m \u001b[0m\u001b[2m0000805928\u001b[0m\u001b[2m \u001b[0m \u001b[33m \u001b[0m\u001b[33mAXGN  \u001b[0m\u001b[33m \u001b[0m \u001b[1;32m \u001b[0m\u001b[1;32mAxogen, Inc.                          \u001b[0m\u001b[1;32m \u001b[0m  2025-06-20   \u001b[2m \u001b[0m\u001b[2m0000805928-25-0001…\u001b[0m\u001b[2m \u001b[0m  \u001b[1;38;5;245m│\u001b[0m\n",
       "\u001b[1;38;5;245m│\u001b[0m   \u001b[1m \u001b[0m\u001b[1m425    \u001b[0m\u001b[1m \u001b[0m \u001b[1;2m \u001b[0m\u001b[1;2m0001955745\u001b[0m\u001b[1;2m \u001b[0m \u001b[1;33m \u001b[0m\u001b[1;33m      \u001b[0m\u001b[1;33m \u001b[0m \u001b[1;32m \u001b[0m\u001b[1;32mStrive Enterprises, Inc. / OH         \u001b[0m\u001b[1;32m \u001b[0m \u001b[1m \u001b[0m\u001b[1m2025-06-20 \u001b[0m\u001b[1m \u001b[0m \u001b[1;2m \u001b[0m\u001b[1;2m0000950103-25-0076…\u001b[0m\u001b[1;2m \u001b[0m  \u001b[1;38;5;245m│\u001b[0m\n",
       "\u001b[1;38;5;245m│\u001b[0m    425      \u001b[2m \u001b[0m\u001b[2m0001920406\u001b[0m\u001b[2m \u001b[0m \u001b[33m \u001b[0m\u001b[33mASST  \u001b[0m\u001b[33m \u001b[0m \u001b[1;32m \u001b[0m\u001b[1;32mAsset Entities Inc.                   \u001b[0m\u001b[1;32m \u001b[0m  2025-06-20   \u001b[2m \u001b[0m\u001b[2m0000950103-25-0076…\u001b[0m\u001b[2m \u001b[0m  \u001b[1;38;5;245m│\u001b[0m\n",
       "\u001b[1;38;5;245m│\u001b[0m   \u001b[1m \u001b[0m\u001b[1m424B2  \u001b[0m\u001b[1m \u001b[0m \u001b[1;2m \u001b[0m\u001b[1;2m0000927971\u001b[0m\u001b[1;2m \u001b[0m \u001b[1;33m \u001b[0m\u001b[1;33mBMO   \u001b[0m\u001b[1;33m \u001b[0m \u001b[1;32m \u001b[0m\u001b[1;32mBANK OF MONTREAL /CAN/                \u001b[0m\u001b[1;32m \u001b[0m \u001b[1m \u001b[0m\u001b[1m2025-06-20 \u001b[0m\u001b[1m \u001b[0m \u001b[1;2m \u001b[0m\u001b[1;2m0001214659-25-0094…\u001b[0m\u001b[1;2m \u001b[0m  \u001b[1;38;5;245m│\u001b[0m\n",
       "\u001b[1;38;5;245m│\u001b[0m    4        \u001b[2m \u001b[0m\u001b[2m0001398116\u001b[0m\u001b[2m \u001b[0m \u001b[33m \u001b[0m\u001b[33m      \u001b[0m\u001b[33m \u001b[0m \u001b[1;32m \u001b[0m\u001b[1;32mHass A John                           \u001b[0m\u001b[1;32m \u001b[0m  2025-06-20   \u001b[2m \u001b[0m\u001b[2m0001333493-25-0000…\u001b[0m\u001b[2m \u001b[0m  \u001b[1;38;5;245m│\u001b[0m\n",
       "\u001b[1;38;5;245m│\u001b[0m   \u001b[1m \u001b[0m\u001b[1m4      \u001b[0m\u001b[1m \u001b[0m \u001b[1;2m \u001b[0m\u001b[1;2m0001333493\u001b[0m\u001b[1;2m \u001b[0m \u001b[1;33m \u001b[0m\u001b[1;33mEHTH  \u001b[0m\u001b[1;33m \u001b[0m \u001b[1;32m \u001b[0m\u001b[1;32meHealth, Inc.                         \u001b[0m\u001b[1;32m \u001b[0m \u001b[1m \u001b[0m\u001b[1m2025-06-20 \u001b[0m\u001b[1m \u001b[0m \u001b[1;2m \u001b[0m\u001b[1;2m0001333493-25-0000…\u001b[0m\u001b[1;2m \u001b[0m  \u001b[1;38;5;245m│\u001b[0m\n",
       "\u001b[1;38;5;245m│\u001b[0m    424B2    \u001b[2m \u001b[0m\u001b[2m0000927971\u001b[0m\u001b[2m \u001b[0m \u001b[33m \u001b[0m\u001b[33mBMO   \u001b[0m\u001b[33m \u001b[0m \u001b[1;32m \u001b[0m\u001b[1;32mBANK OF MONTREAL /CAN/                \u001b[0m\u001b[1;32m \u001b[0m  2025-06-20   \u001b[2m \u001b[0m\u001b[2m0001214659-25-0094…\u001b[0m\u001b[2m \u001b[0m  \u001b[1;38;5;245m│\u001b[0m\n",
       "\u001b[1;38;5;245m│\u001b[0m   \u001b[1m \u001b[0m\u001b[1m8-K    \u001b[0m\u001b[1m \u001b[0m \u001b[1;2m \u001b[0m\u001b[1;2m0001838406\u001b[0m\u001b[1;2m \u001b[0m \u001b[1;33m \u001b[0m\u001b[1;33mBKV   \u001b[0m\u001b[1;33m \u001b[0m \u001b[1;32m \u001b[0m\u001b[1;32mBKV Corp                              \u001b[0m\u001b[1;32m \u001b[0m \u001b[1m \u001b[0m\u001b[1m2025-06-20 \u001b[0m\u001b[1m \u001b[0m \u001b[1;2m \u001b[0m\u001b[1;2m0001628280-25-0323…\u001b[0m\u001b[1;2m \u001b[0m  \u001b[1;38;5;245m│\u001b[0m\n",
       "\u001b[1;38;5;245m│\u001b[0m    425      \u001b[2m \u001b[0m\u001b[2m0000022356\u001b[0m\u001b[2m \u001b[0m \u001b[33m \u001b[0m\u001b[33mCBSH  \u001b[0m\u001b[33m \u001b[0m \u001b[1;32m \u001b[0m\u001b[1;32mCOMMERCE BANCSHARES INC /MO/          \u001b[0m\u001b[1;32m \u001b[0m  2025-06-20   \u001b[2m \u001b[0m\u001b[2m0001104659-25-0611…\u001b[0m\u001b[2m \u001b[0m  \u001b[1;38;5;245m│\u001b[0m\n",
       "\u001b[1;38;5;245m│\u001b[0m   \u001b[1m \u001b[0m\u001b[1m4      \u001b[0m\u001b[1m \u001b[0m \u001b[1;2m \u001b[0m\u001b[1;2m0001383313\u001b[0m\u001b[1;2m \u001b[0m \u001b[1;33m \u001b[0m\u001b[1;33m      \u001b[0m\u001b[1;33m \u001b[0m \u001b[1;32m \u001b[0m\u001b[1;32mWright Timothy                        \u001b[0m\u001b[1;32m \u001b[0m \u001b[1m \u001b[0m\u001b[1m2025-06-20 \u001b[0m\u001b[1m \u001b[0m \u001b[1;2m \u001b[0m\u001b[1;2m0000950170-25-0885…\u001b[0m\u001b[1;2m \u001b[0m  \u001b[1;38;5;245m│\u001b[0m\n",
       "\u001b[1;38;5;245m│\u001b[0m    4        \u001b[2m \u001b[0m\u001b[2m0001098972\u001b[0m\u001b[2m \u001b[0m \u001b[33m \u001b[0m\u001b[33mAGEN  \u001b[0m\u001b[33m \u001b[0m \u001b[1;32m \u001b[0m\u001b[1;32mAGENUS INC                            \u001b[0m\u001b[1;32m \u001b[0m  2025-06-20   \u001b[2m \u001b[0m\u001b[2m0000950170-25-0885…\u001b[0m\u001b[2m \u001b[0m  \u001b[1;38;5;245m│\u001b[0m\n",
       "\u001b[1;38;5;245m│\u001b[0m   \u001b[1m \u001b[0m\u001b[1m4      \u001b[0m\u001b[1m \u001b[0m \u001b[1;2m \u001b[0m\u001b[1;2m0001827663\u001b[0m\u001b[1;2m \u001b[0m \u001b[1;33m \u001b[0m\u001b[1;33m      \u001b[0m\u001b[1;33m \u001b[0m \u001b[1;32m \u001b[0m\u001b[1;32mHirsch Susan B                        \u001b[0m\u001b[1;32m \u001b[0m \u001b[1m \u001b[0m\u001b[1m2025-06-20 \u001b[0m\u001b[1m \u001b[0m \u001b[1;2m \u001b[0m\u001b[1;2m0000950170-25-0885…\u001b[0m\u001b[1;2m \u001b[0m  \u001b[1;38;5;245m│\u001b[0m\n",
       "\u001b[1;38;5;245m│\u001b[0m    6-K      \u001b[2m \u001b[0m\u001b[2m0001421876\u001b[0m\u001b[2m \u001b[0m \u001b[33m \u001b[0m\u001b[33mGLPG  \u001b[0m\u001b[33m \u001b[0m \u001b[1;32m \u001b[0m\u001b[1;32mGALAPAGOS NV                          \u001b[0m\u001b[1;32m \u001b[0m  2025-06-20   \u001b[2m \u001b[0m\u001b[2m0001171843-25-0040…\u001b[0m\u001b[2m \u001b[0m  \u001b[1;38;5;245m│\u001b[0m\n",
       "\u001b[1;38;5;245m│\u001b[0m   \u001b[1m \u001b[0m\u001b[1m4      \u001b[0m\u001b[1m \u001b[0m \u001b[1;2m \u001b[0m\u001b[1;2m0001393207\u001b[0m\u001b[1;2m \u001b[0m \u001b[1;33m \u001b[0m\u001b[1;33m      \u001b[0m\u001b[1;33m \u001b[0m \u001b[1;32m \u001b[0m\u001b[1;32mCorvese Brian                         \u001b[0m\u001b[1;32m \u001b[0m \u001b[1m \u001b[0m\u001b[1m2025-06-20 \u001b[0m\u001b[1m \u001b[0m \u001b[1;2m \u001b[0m\u001b[1;2m0000950170-25-0885…\u001b[0m\u001b[1;2m \u001b[0m  \u001b[1;38;5;245m│\u001b[0m\n",
       "\u001b[1;38;5;245m│\u001b[0m    4        \u001b[2m \u001b[0m\u001b[2m0001098972\u001b[0m\u001b[2m \u001b[0m \u001b[33m \u001b[0m\u001b[33mAGEN  \u001b[0m\u001b[33m \u001b[0m \u001b[1;32m \u001b[0m\u001b[1;32mAGENUS INC                            \u001b[0m\u001b[1;32m \u001b[0m  2025-06-20   \u001b[2m \u001b[0m\u001b[2m0000950170-25-0885…\u001b[0m\u001b[2m \u001b[0m  \u001b[1;38;5;245m│\u001b[0m\n",
       "\u001b[1;38;5;245m│\u001b[0m   \u001b[1m \u001b[0m\u001b[1m4      \u001b[0m\u001b[1m \u001b[0m \u001b[1;2m \u001b[0m\u001b[1;2m0001098972\u001b[0m\u001b[1;2m \u001b[0m \u001b[1;33m \u001b[0m\u001b[1;33mAGEN  \u001b[0m\u001b[1;33m \u001b[0m \u001b[1;32m \u001b[0m\u001b[1;32mAGENUS INC                            \u001b[0m\u001b[1;32m \u001b[0m \u001b[1m \u001b[0m\u001b[1m2025-06-20 \u001b[0m\u001b[1m \u001b[0m \u001b[1;2m \u001b[0m\u001b[1;2m0000950170-25-0885…\u001b[0m\u001b[1;2m \u001b[0m  \u001b[1;38;5;245m│\u001b[0m\n",
       "\u001b[1;38;5;245m│\u001b[0m    144      \u001b[2m \u001b[0m\u001b[2m0001792626\u001b[0m\u001b[2m \u001b[0m \u001b[33m \u001b[0m\u001b[33m      \u001b[0m\u001b[33m \u001b[0m \u001b[1;32m \u001b[0m\u001b[1;32mBrass Lorin L.                        \u001b[0m\u001b[1;32m \u001b[0m  2025-06-20   \u001b[2m \u001b[0m\u001b[2m0001950047-25-0044…\u001b[0m\u001b[2m \u001b[0m  \u001b[1;38;5;245m│\u001b[0m\n",
       "\u001b[1;38;5;245m│\u001b[0m   \u001b[1m \u001b[0m\u001b[1m144    \u001b[0m\u001b[1m \u001b[0m \u001b[1;2m \u001b[0m\u001b[1;2m0001525221\u001b[0m\u001b[1;2m \u001b[0m \u001b[1;33m \u001b[0m\u001b[1;33mVTOL  \u001b[0m\u001b[1;33m \u001b[0m \u001b[1;32m \u001b[0m\u001b[1;32mBristow Group Inc.                    \u001b[0m\u001b[1;32m \u001b[0m \u001b[1m \u001b[0m\u001b[1m2025-06-20 \u001b[0m\u001b[1m \u001b[0m \u001b[1;2m \u001b[0m\u001b[1;2m0001950047-25-0044…\u001b[0m\u001b[1;2m \u001b[0m  \u001b[1;38;5;245m│\u001b[0m\n",
       "\u001b[1;38;5;245m│\u001b[0m    4        \u001b[2m \u001b[0m\u001b[2m0001400568\u001b[0m\u001b[2m \u001b[0m \u001b[33m \u001b[0m\u001b[33m      \u001b[0m\u001b[33m \u001b[0m \u001b[1;32m \u001b[0m\u001b[1;32mWendell Amy McBride                   \u001b[0m\u001b[1;32m \u001b[0m  2025-06-20   \u001b[2m \u001b[0m\u001b[2m0000805928-25-0001…\u001b[0m\u001b[2m \u001b[0m  \u001b[1;38;5;245m│\u001b[0m\n",
       "\u001b[1;38;5;245m│\u001b[0m   \u001b[1m \u001b[0m\u001b[1m4      \u001b[0m\u001b[1m \u001b[0m \u001b[1;2m \u001b[0m\u001b[1;2m0000805928\u001b[0m\u001b[1;2m \u001b[0m \u001b[1;33m \u001b[0m\u001b[1;33mAXGN  \u001b[0m\u001b[1;33m \u001b[0m \u001b[1;32m \u001b[0m\u001b[1;32mAxogen, Inc.                          \u001b[0m\u001b[1;32m \u001b[0m \u001b[1m \u001b[0m\u001b[1m2025-06-20 \u001b[0m\u001b[1m \u001b[0m \u001b[1;2m \u001b[0m\u001b[1;2m0000805928-25-0001…\u001b[0m\u001b[1;2m \u001b[0m  \u001b[1;38;5;245m│\u001b[0m\n",
       "\u001b[1;38;5;245m│\u001b[0m    DEFR14A  \u001b[2m \u001b[0m\u001b[2m0001847302\u001b[0m\u001b[2m \u001b[0m \u001b[33m \u001b[0m\u001b[33m      \u001b[0m\u001b[33m \u001b[0m \u001b[1;32m \u001b[0m\u001b[1;32mTax-Free Fixed Income Fund II for Pue…\u001b[0m\u001b[1;32m \u001b[0m  2025-06-20   \u001b[2m \u001b[0m\u001b[2m0001213900-25-0561…\u001b[0m\u001b[2m \u001b[0m  \u001b[1;38;5;245m│\u001b[0m\n",
       "\u001b[1;38;5;245m│\u001b[0m   \u001b[1m \u001b[0m\u001b[1m144    \u001b[0m\u001b[1m \u001b[0m \u001b[1;2m \u001b[0m\u001b[1;2m0001742369\u001b[0m\u001b[1;2m \u001b[0m \u001b[1;33m \u001b[0m\u001b[1;33m      \u001b[0m\u001b[1;33m \u001b[0m \u001b[1;32m \u001b[0m\u001b[1;32mLublin Scott                          \u001b[0m\u001b[1;32m \u001b[0m \u001b[1m \u001b[0m\u001b[1m2025-06-20 \u001b[0m\u001b[1m \u001b[0m \u001b[1;2m \u001b[0m\u001b[1;2m0001959173-25-0042…\u001b[0m\u001b[1;2m \u001b[0m  \u001b[1;38;5;245m│\u001b[0m\n",
       "\u001b[1;38;5;245m│\u001b[0m    144      \u001b[2m \u001b[0m\u001b[2m0001476034\u001b[0m\u001b[2m \u001b[0m \u001b[33m \u001b[0m\u001b[33mMCB   \u001b[0m\u001b[33m \u001b[0m \u001b[1;32m \u001b[0m\u001b[1;32mMetropolitan Bank Holding Corp.       \u001b[0m\u001b[1;32m \u001b[0m  2025-06-20   \u001b[2m \u001b[0m\u001b[2m0001959173-25-0042…\u001b[0m\u001b[2m \u001b[0m  \u001b[1;38;5;245m│\u001b[0m\n",
       "\u001b[1;38;5;245m│\u001b[0m   \u001b[1m \u001b[0m\u001b[1m8-K    \u001b[0m\u001b[1m \u001b[0m \u001b[1;2m \u001b[0m\u001b[1;2m0001847903\u001b[0m\u001b[1;2m \u001b[0m \u001b[1;33m \u001b[0m\u001b[1;33mCNTA  \u001b[0m\u001b[1;33m \u001b[0m \u001b[1;32m \u001b[0m\u001b[1;32mCentessa Pharmaceuticals plc          \u001b[0m\u001b[1;32m \u001b[0m \u001b[1m \u001b[0m\u001b[1m2025-06-20 \u001b[0m\u001b[1m \u001b[0m \u001b[1;2m \u001b[0m\u001b[1;2m0001847903-25-0000…\u001b[0m\u001b[1;2m \u001b[0m  \u001b[1;38;5;245m│\u001b[0m\n",
       "\u001b[1;38;5;245m│\u001b[0m    144      \u001b[2m \u001b[0m\u001b[2m0001341439\u001b[0m\u001b[2m \u001b[0m \u001b[33m \u001b[0m\u001b[33mORCL  \u001b[0m\u001b[33m \u001b[0m \u001b[1;32m \u001b[0m\u001b[1;32mORACLE CORP                           \u001b[0m\u001b[1;32m \u001b[0m  2025-06-20   \u001b[2m \u001b[0m\u001b[2m0001959173-25-0042…\u001b[0m\u001b[2m \u001b[0m  \u001b[1;38;5;245m│\u001b[0m\n",
       "\u001b[1;38;5;245m│\u001b[0m   \u001b[1m \u001b[0m\u001b[1m144    \u001b[0m\u001b[1m \u001b[0m \u001b[1;2m \u001b[0m\u001b[1;2m0001205005\u001b[0m\u001b[1;2m \u001b[0m \u001b[1;33m \u001b[0m\u001b[1;33m      \u001b[0m\u001b[1;33m \u001b[0m \u001b[1;32m \u001b[0m\u001b[1;32mCATZ SAFRA                            \u001b[0m\u001b[1;32m \u001b[0m \u001b[1m \u001b[0m\u001b[1m2025-06-20 \u001b[0m\u001b[1m \u001b[0m \u001b[1;2m \u001b[0m\u001b[1;2m0001959173-25-0042…\u001b[0m\u001b[1;2m \u001b[0m  \u001b[1;38;5;245m│\u001b[0m\n",
       "\u001b[1;38;5;245m│\u001b[0m    144      \u001b[2m \u001b[0m\u001b[2m0001990106\u001b[0m\u001b[2m \u001b[0m \u001b[33m \u001b[0m\u001b[33m      \u001b[0m\u001b[33m \u001b[0m \u001b[1;32m \u001b[0m\u001b[1;32mFong Morgan                           \u001b[0m\u001b[1;32m \u001b[0m  2025-06-20   \u001b[2m \u001b[0m\u001b[2m0001921094-25-0007…\u001b[0m\u001b[2m \u001b[0m  \u001b[1;38;5;245m│\u001b[0m\n",
       "\u001b[1;38;5;245m│\u001b[0m   \u001b[1m \u001b[0m\u001b[1m144    \u001b[0m\u001b[1m \u001b[0m \u001b[1;2m \u001b[0m\u001b[1;2m0001579091\u001b[0m\u001b[1;2m \u001b[0m \u001b[1;33m \u001b[0m\u001b[1;33mCART  \u001b[0m\u001b[1;33m \u001b[0m \u001b[1;32m \u001b[0m\u001b[1;32mMaplebear Inc.                        \u001b[0m\u001b[1;32m \u001b[0m \u001b[1m \u001b[0m\u001b[1m2025-06-20 \u001b[0m\u001b[1m \u001b[0m \u001b[1;2m \u001b[0m\u001b[1;2m0001921094-25-0007…\u001b[0m\u001b[1;2m \u001b[0m  \u001b[1;38;5;245m│\u001b[0m\n",
       "\u001b[1;38;5;245m│\u001b[0m    4        \u001b[2m \u001b[0m\u001b[2m0001836430\u001b[0m\u001b[2m \u001b[0m \u001b[33m \u001b[0m\u001b[33m      \u001b[0m\u001b[33m \u001b[0m \u001b[1;32m \u001b[0m\u001b[1;32mChopas James George                   \u001b[0m\u001b[1;32m \u001b[0m  2025-06-20   \u001b[2m \u001b[0m\u001b[2m0001127602-25-0178…\u001b[0m\u001b[2m \u001b[0m  \u001b[1;38;5;245m│\u001b[0m\n",
       "\u001b[1;38;5;245m│\u001b[0m   \u001b[1m \u001b[0m\u001b[1m4      \u001b[0m\u001b[1m \u001b[0m \u001b[1;2m \u001b[0m\u001b[1;2m0001492422\u001b[0m\u001b[1;2m \u001b[0m \u001b[1;33m \u001b[0m\u001b[1;33mAPLS  \u001b[0m\u001b[1;33m \u001b[0m \u001b[1;32m \u001b[0m\u001b[1;32mApellis Pharmaceuticals, Inc.         \u001b[0m\u001b[1;32m \u001b[0m \u001b[1m \u001b[0m\u001b[1m2025-06-20 \u001b[0m\u001b[1m \u001b[0m \u001b[1;2m \u001b[0m\u001b[1;2m0001127602-25-0178…\u001b[0m\u001b[1;2m \u001b[0m  \u001b[1;38;5;245m│\u001b[0m\n",
       "\u001b[1;38;5;245m│\u001b[0m    8-K      \u001b[2m \u001b[0m\u001b[2m0001837532\u001b[0m\u001b[2m \u001b[0m \u001b[33m \u001b[0m\u001b[33m      \u001b[0m\u001b[33m \u001b[0m \u001b[1;32m \u001b[0m\u001b[1;32mApollo Debt Solutions BDC             \u001b[0m\u001b[1;32m \u001b[0m  2025-06-20   \u001b[2m \u001b[0m\u001b[2m0001193125-25-1436…\u001b[0m\u001b[2m \u001b[0m  \u001b[1;38;5;245m│\u001b[0m\n",
       "\u001b[1;38;5;245m│\u001b[0m   \u001b[1m \u001b[0m\u001b[1m4      \u001b[0m\u001b[1m \u001b[0m \u001b[1;2m \u001b[0m\u001b[1;2m0001979466\u001b[0m\u001b[1;2m \u001b[0m \u001b[1;33m \u001b[0m\u001b[1;33m      \u001b[0m\u001b[1;33m \u001b[0m \u001b[1;32m \u001b[0m\u001b[1;32mWeiler Kathy Johnson                  \u001b[0m\u001b[1;32m \u001b[0m \u001b[1m \u001b[0m\u001b[1m2025-06-20 \u001b[0m\u001b[1m \u001b[0m \u001b[1;2m \u001b[0m\u001b[1;2m0000805928-25-0000…\u001b[0m\u001b[1;2m \u001b[0m  \u001b[1;38;5;245m│\u001b[0m\n",
       "\u001b[1;38;5;245m│\u001b[0m    4        \u001b[2m \u001b[0m\u001b[2m0000805928\u001b[0m\u001b[2m \u001b[0m \u001b[33m \u001b[0m\u001b[33mAXGN  \u001b[0m\u001b[33m \u001b[0m \u001b[1;32m \u001b[0m\u001b[1;32mAxogen, Inc.                          \u001b[0m\u001b[1;32m \u001b[0m  2025-06-20   \u001b[2m \u001b[0m\u001b[2m0000805928-25-0000…\u001b[0m\u001b[2m \u001b[0m  \u001b[1;38;5;245m│\u001b[0m\n",
       "\u001b[1;38;5;245m│\u001b[0m   \u001b[1m \u001b[0m\u001b[1m6-K/A  \u001b[0m\u001b[1m \u001b[0m \u001b[1;2m \u001b[0m\u001b[1;2m0001477081\u001b[0m\u001b[1;2m \u001b[0m \u001b[1;33m \u001b[0m\u001b[1;33mKGEI  \u001b[0m\u001b[1;33m \u001b[0m \u001b[1;32m \u001b[0m\u001b[1;32mKolibri Global Energy Inc.            \u001b[0m\u001b[1;32m \u001b[0m \u001b[1m \u001b[0m\u001b[1m2025-06-20 \u001b[0m\u001b[1m \u001b[0m \u001b[1;2m \u001b[0m\u001b[1;2m0001641172-25-0158…\u001b[0m\u001b[1;2m \u001b[0m  \u001b[1;38;5;245m│\u001b[0m\n",
       "\u001b[1;38;5;245m│\u001b[0m                                                                                                                 \u001b[1;38;5;245m│\u001b[0m\n",
       "\u001b[1;38;5;245m│\u001b[0m                                                                                                                 \u001b[1;38;5;245m│\u001b[0m\n",
       "\u001b[1;38;5;245m│\u001b[0m                                                                                                                 \u001b[1;38;5;245m│\u001b[0m\n",
       "\u001b[1;38;5;245m│\u001b[0m \u001b[2mShowing \u001b[0m\u001b[1;31m0\u001b[0m\u001b[2m to \u001b[0m\u001b[1;31m39\u001b[0m\u001b[2m most recent filings.\u001b[0m\u001b[2m Page using \u001b[0m\u001b[1;38;5;245m← prev()\u001b[0m\u001b[2m and \u001b[0m\u001b[1;38;5;245mnext() →\u001b[0m                                           \u001b[1;38;5;245m│\u001b[0m\n",
       "\u001b[1;38;5;245m╰─\u001b[0m\u001b[1;38;5;245m──────────────────────────────────────\u001b[0m\u001b[1;38;5;245m Most recent filings from the SEC \u001b[0m\u001b[1;38;5;245m───────────────────────────────────────\u001b[0m\u001b[1;38;5;245m─╯\u001b[0m"
      ]
     },
     "execution_count": 4,
     "metadata": {},
     "output_type": "execute_result"
    }
   ],
   "source": [
    "# Get the latest filings not yet in the index\n",
    "filings = get_latest_filings()\n",
    "filings"
   ]
  }
 ],
 "metadata": {
  "kernelspec": {
   "display_name": ".venv",
   "language": "python",
   "name": "python3"
  },
  "language_info": {
   "codemirror_mode": {
    "name": "ipython",
    "version": 3
   },
   "file_extension": ".py",
   "mimetype": "text/x-python",
   "name": "python",
   "nbconvert_exporter": "python",
   "pygments_lexer": "ipython3",
   "version": "3.13.5"
  }
 },
 "nbformat": 4,
 "nbformat_minor": 5
}
