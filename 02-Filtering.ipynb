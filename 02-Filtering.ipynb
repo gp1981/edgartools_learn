{
 "cells": [
  {
   "cell_type": "code",
   "execution_count": 1,
   "id": "679b377c",
   "metadata": {},
   "outputs": [
    {
     "name": "stderr",
     "output_type": "stream",
     "text": [
      "c:\\Users\\gabri_4rc\\Documents\\GitHub\\edgartools_learn\\.venv\\Lib\\site-packages\\tqdm\\auto.py:21: TqdmWarning: IProgress not found. Please update jupyter and ipywidgets. See https://ipywidgets.readthedocs.io/en/stable/user_install.html\n",
      "  from .autonotebook import tqdm as notebook_tqdm\n"
     ]
    }
   ],
   "source": [
    "# Setting things up  \n",
    "# [Overview](https://edgartools.readthedocs.io/en/latest/)\n",
    "\n",
    "# 1. Import the library\n",
    "from edgar import *\n",
    "from tqdm.notebook import tqdm\n",
    "\n",
    "# 2. Tell the SEC who you are (required by SEC regulations)\n",
    "set_identity(\"email@address.com\")  # Replace with your email\n",
    "# or\n",
    "# Setting your identity using an environment variable\n",
    "# You can also set your identity using an environment variable. \n",
    "# This is useful if you are using the library in a script or notebook.\n",
    "\n",
    "# export EDGAR_IDENTITY=\"email@address.com\""
   ]
  },
  {
   "cell_type": "code",
   "execution_count": null,
   "id": "0364b0f1",
   "metadata": {},
   "outputs": [
    {
     "data": {
      "text/plain": [
       "12885"
      ]
     },
     "execution_count": 4,
     "metadata": {},
     "output_type": "execute_result"
    }
   ],
   "source": [
    "# Filings can be filtered in many different ways like by form, date, CIK, ticker, and accession number. You also filter while getting filings using the get_filings function or after getting filings using the filter method.\n",
    "\n",
    "# For the most part these approaches will give identical results, except that with get_filings you are filtering from all available filings in the SEC, while with filter you are reducing the nu,ber of filings in a Filings object.\n",
    "\n",
    "filings = get_filings(form=['10-K', '10-Q']) # Get all 10-K and 10-Q filings\n",
    "len(filings)  # Check how many filings were returned"
   ]
  },
  {
   "cell_type": "code",
   "execution_count": 18,
   "id": "eadf5562",
   "metadata": {},
   "outputs": [
    {
     "data": {
      "text/plain": [
       "30114"
      ]
     },
     "execution_count": 18,
     "metadata": {},
     "output_type": "execute_result"
    }
   ],
   "source": [
    "# Filtering filings\n",
    "\n",
    "filings = get_filings(filing_date='2022-01-01:2022-12-31', \n",
    "                      form=['10-K', '10-Q'])  # Get filings for the year 2022\n",
    "len(filings)  # Check how many filings were returned    \n",
    "\n",
    "# or up to a date\n",
    "# filings = get_filings(filing_date=':2022-01-10', form=['10-K', '10-Q'])\n",
    "\n",
    "# or after a date\n",
    "# filings = get_filings(filing_date='2022-01-10:')"
   ]
  },
  {
   "cell_type": "code",
   "execution_count": 7,
   "id": "9ddf4862",
   "metadata": {},
   "outputs": [
    {
     "data": {
      "application/vnd.microsoft.datawrangler.viewer.v0+json": {
       "columns": [
        {
         "name": "index",
         "rawType": "int64",
         "type": "integer"
        },
        {
         "name": "form",
         "rawType": "object",
         "type": "string"
        },
        {
         "name": "company",
         "rawType": "object",
         "type": "string"
        },
        {
         "name": "cik",
         "rawType": "int32",
         "type": "integer"
        },
        {
         "name": "filing_date",
         "rawType": "object",
         "type": "unknown"
        },
        {
         "name": "accession_number",
         "rawType": "object",
         "type": "string"
        }
       ],
       "ref": "edfb863d-d233-4735-8865-96268ea3abe0",
       "rows": [
        [
         "0",
         "10-Q",
         "Hanjiao Group, Inc.",
         "1421819",
         "2022-12-30",
         "0001683168-22-008697"
        ],
        [
         "1",
         "10-Q",
         "Minerva Gold Inc.",
         "1854816",
         "2022-12-30",
         "0001477932-22-009570"
        ],
        [
         "2",
         "10-K",
         "Jupiter Wellness Acquisition Corp.",
         "1883799",
         "2022-12-30",
         "0001493152-22-037163"
        ],
        [
         "3",
         "10-K",
         "Kingfish Holding Corp",
         "1374881",
         "2022-12-30",
         "0001477932-22-009583"
        ],
        [
         "4",
         "10-K",
         "NORTH EUROPEAN OIL ROYALTY TRUST",
         "72633",
         "2022-12-30",
         "0000072633-22-000015"
        ],
        [
         "5",
         "10-K/A",
         "DUET Acquisition Corp.",
         "1890671",
         "2022-12-30",
         "0001493152-22-036834"
        ],
        [
         "6",
         "10-K/A",
         "Duckhorn Portfolio, Inc.",
         "1835256",
         "2022-12-30",
         "0001193125-22-315457"
        ],
        [
         "7",
         "10-Q",
         "APOGEE ENTERPRISES, INC.",
         "6845",
         "2022-12-29",
         "0000006845-22-000037"
        ],
        [
         "8",
         "10-Q",
         "COSTCO WHOLESALE CORP /NEW",
         "909832",
         "2022-12-29",
         "0000909832-22-000035"
        ],
        [
         "9",
         "10-Q",
         "UpHealth, Inc.",
         "1770141",
         "2022-12-29",
         "0001628280-22-032696"
        ],
        [
         "10",
         "10-Q/A",
         "SPECIFICITY, INC.",
         "1840102",
         "2022-12-29",
         "0001520138-22-000590"
        ],
        [
         "11",
         "10-K",
         "ALL FOR ONE MEDIA CORP.",
         "1286459",
         "2022-12-29",
         "0001477932-22-009557"
        ],
        [
         "12",
         "10-K",
         "AmeriCann, Inc.",
         "1508348",
         "2022-12-29",
         "0001437749-22-029891"
        ],
        [
         "13",
         "10-K",
         "BARNWELL INDUSTRIES INC",
         "10048",
         "2022-12-29",
         "0000010048-22-000029"
        ],
        [
         "14",
         "10-K",
         "Cleartronic, Inc.",
         "1362516",
         "2022-12-29",
         "0001091818-22-000187"
        ],
        [
         "15",
         "10-K",
         "FUSE GROUP HOLDING INC.",
         "1636051",
         "2022-12-29",
         "0001185185-22-001464"
        ],
        [
         "16",
         "10-K",
         "GULFSLOPE ENERGY, INC.",
         "1341726",
         "2022-12-29",
         "0001839882-22-030611"
        ],
        [
         "17",
         "10-K",
         "Gesher I Acquisition Corp.",
         "1853314",
         "2022-12-29",
         "0001213900-22-083609"
        ],
        [
         "18",
         "10-K",
         "Kun Peng International Ltd.",
         "1502557",
         "2022-12-29",
         "0001493152-22-036792"
        ],
        [
         "19",
         "10-K",
         "MESA AIR GROUP INC",
         "810332",
         "2022-12-29",
         "0001564590-22-039954"
        ],
        [
         "20",
         "10-K",
         "Outlook Therapeutics, Inc.",
         "1649989",
         "2022-12-29",
         "0001558370-22-019036"
        ],
        [
         "21",
         "10-K",
         "RAYONT INC.",
         "1539778",
         "2022-12-29",
         "0001493152-22-036734"
        ],
        [
         "22",
         "10-K",
         "RED TRAIL ENERGY, LLC",
         "1359687",
         "2022-12-29",
         "0001359687-22-000020"
        ],
        [
         "23",
         "10-K",
         "THERALINK TECHNOLOGIES, INC.",
         "1362703",
         "2022-12-29",
         "0001493152-22-036824"
        ],
        [
         "24",
         "10-K",
         "Timberline Resources Corp",
         "1288750",
         "2022-12-29",
         "0001654954-22-017031"
        ],
        [
         "25",
         "10-K",
         "VIRTUAL INTERACTIVE TECHNOLOGIES CORP.",
         "1536089",
         "2022-12-29",
         "0001493152-22-036777"
        ],
        [
         "26",
         "10-K",
         "YUMMIES INC",
         "1073748",
         "2022-12-29",
         "0001213900-22-083620"
        ],
        [
         "27",
         "10-Q",
         "CAL-MAINE FOODS INC",
         "16160",
         "2022-12-28",
         "0001562762-22-000497"
        ],
        [
         "28",
         "10-Q/A",
         "Appgate, Inc.",
         "1353538",
         "2022-12-28",
         "0001628280-22-032634"
        ],
        [
         "29",
         "10-Q/A",
         "Appgate, Inc.",
         "1353538",
         "2022-12-28",
         "0001628280-22-032635"
        ],
        [
         "30",
         "10-K",
         "Arch Therapeutics, Inc.",
         "1537561",
         "2022-12-28",
         "0001851734-22-000752"
        ],
        [
         "31",
         "10-K",
         "CEMTREX INC",
         "1435064",
         "2022-12-28",
         "0001493152-22-036671"
        ],
        [
         "32",
         "10-K",
         "EMCORE CORP",
         "808326",
         "2022-12-28",
         "0000808326-22-000061"
        ],
        [
         "33",
         "10-K",
         "FLYWHEEL ADVANCED TECHNOLOGY, INC.",
         "1492617",
         "2022-12-28",
         "0001493152-22-036631"
        ],
        [
         "34",
         "10-K",
         "Voip-pal.com Inc",
         "1410738",
         "2022-12-28",
         "0001493152-22-036629"
        ],
        [
         "35",
         "10-K/A",
         "Appgate, Inc.",
         "1353538",
         "2022-12-28",
         "0001628280-22-032630"
        ],
        [
         "36",
         "10-Q/A",
         "Franklin Templeton Holdings Trust",
         "1858258",
         "2022-12-27",
         "0001193125-22-312565"
        ],
        [
         "37",
         "10-Q/A",
         "Franklin Templeton Holdings Trust",
         "1858258",
         "2022-12-27",
         "0001193125-22-312570"
        ],
        [
         "38",
         "10-K",
         "CEL SCI CORP",
         "725363",
         "2022-12-27",
         "0001654954-22-016959"
        ],
        [
         "39",
         "10-K",
         "CONECTISYS CORP",
         "790273",
         "2022-12-27",
         "0001683168-22-008637"
        ],
        [
         "40",
         "10-K",
         "MALVERN BANCORP, INC.",
         "1550603",
         "2022-12-27",
         "0001437749-22-029790"
        ],
        [
         "41",
         "10-Q",
         "Black Rock Petroleum Co",
         "1580095",
         "2022-12-23",
         "0001213900-22-082643"
        ],
        [
         "42",
         "10-Q",
         "Black Rock Petroleum Co",
         "1580095",
         "2022-12-23",
         "0001213900-22-082655"
        ],
        [
         "43",
         "10-Q",
         "Enservco Corp",
         "319458",
         "2022-12-23",
         "0001437749-22-029713"
        ],
        [
         "44",
         "10-Q",
         "Eve Holding, Inc.",
         "1823652",
         "2022-12-23",
         "0001554855-22-000729"
        ],
        [
         "45",
         "10-Q",
         "NETWORK CN INC",
         "934796",
         "2022-12-23",
         "0001214659-22-015302"
        ],
        [
         "46",
         "10-Q",
         "NETWORK CN INC",
         "934796",
         "2022-12-23",
         "0001214659-22-015304"
        ],
        [
         "47",
         "10-Q",
         "Phoenix Rising Companies",
         "1572384",
         "2022-12-23",
         "0001640334-22-002698"
        ],
        [
         "48",
         "10-Q",
         "Plutonian Acquisition Corp.",
         "1929231",
         "2022-12-23",
         "0001213900-22-082614"
        ],
        [
         "49",
         "10-Q",
         "RBB Bancorp",
         "1499422",
         "2022-12-23",
         "0001437749-22-029683"
        ]
       ],
       "shape": {
        "columns": 5,
        "rows": 30114
       }
      },
      "text/html": [
       "<div>\n",
       "<style scoped>\n",
       "    .dataframe tbody tr th:only-of-type {\n",
       "        vertical-align: middle;\n",
       "    }\n",
       "\n",
       "    .dataframe tbody tr th {\n",
       "        vertical-align: top;\n",
       "    }\n",
       "\n",
       "    .dataframe thead th {\n",
       "        text-align: right;\n",
       "    }\n",
       "</style>\n",
       "<table border=\"1\" class=\"dataframe\">\n",
       "  <thead>\n",
       "    <tr style=\"text-align: right;\">\n",
       "      <th></th>\n",
       "      <th>form</th>\n",
       "      <th>company</th>\n",
       "      <th>cik</th>\n",
       "      <th>filing_date</th>\n",
       "      <th>accession_number</th>\n",
       "    </tr>\n",
       "  </thead>\n",
       "  <tbody>\n",
       "    <tr>\n",
       "      <th>0</th>\n",
       "      <td>10-Q</td>\n",
       "      <td>Hanjiao Group, Inc.</td>\n",
       "      <td>1421819</td>\n",
       "      <td>2022-12-30</td>\n",
       "      <td>0001683168-22-008697</td>\n",
       "    </tr>\n",
       "    <tr>\n",
       "      <th>1</th>\n",
       "      <td>10-Q</td>\n",
       "      <td>Minerva Gold Inc.</td>\n",
       "      <td>1854816</td>\n",
       "      <td>2022-12-30</td>\n",
       "      <td>0001477932-22-009570</td>\n",
       "    </tr>\n",
       "    <tr>\n",
       "      <th>2</th>\n",
       "      <td>10-K</td>\n",
       "      <td>Jupiter Wellness Acquisition Corp.</td>\n",
       "      <td>1883799</td>\n",
       "      <td>2022-12-30</td>\n",
       "      <td>0001493152-22-037163</td>\n",
       "    </tr>\n",
       "    <tr>\n",
       "      <th>3</th>\n",
       "      <td>10-K</td>\n",
       "      <td>Kingfish Holding Corp</td>\n",
       "      <td>1374881</td>\n",
       "      <td>2022-12-30</td>\n",
       "      <td>0001477932-22-009583</td>\n",
       "    </tr>\n",
       "    <tr>\n",
       "      <th>4</th>\n",
       "      <td>10-K</td>\n",
       "      <td>NORTH EUROPEAN OIL ROYALTY TRUST</td>\n",
       "      <td>72633</td>\n",
       "      <td>2022-12-30</td>\n",
       "      <td>0000072633-22-000015</td>\n",
       "    </tr>\n",
       "    <tr>\n",
       "      <th>...</th>\n",
       "      <td>...</td>\n",
       "      <td>...</td>\n",
       "      <td>...</td>\n",
       "      <td>...</td>\n",
       "      <td>...</td>\n",
       "    </tr>\n",
       "    <tr>\n",
       "      <th>30109</th>\n",
       "      <td>10-Q/A</td>\n",
       "      <td>Ares Acquisition Corp</td>\n",
       "      <td>1829432</td>\n",
       "      <td>2022-01-03</td>\n",
       "      <td>0001628280-22-000111</td>\n",
       "    </tr>\n",
       "    <tr>\n",
       "      <th>30110</th>\n",
       "      <td>10-Q/A</td>\n",
       "      <td>Corsair Partnering Corp</td>\n",
       "      <td>1842659</td>\n",
       "      <td>2022-01-03</td>\n",
       "      <td>0001140361-22-000145</td>\n",
       "    </tr>\n",
       "    <tr>\n",
       "      <th>30111</th>\n",
       "      <td>10-Q/A</td>\n",
       "      <td>VPC Impact Acquisition Holdings II</td>\n",
       "      <td>1840792</td>\n",
       "      <td>2022-01-03</td>\n",
       "      <td>0001193125-22-000672</td>\n",
       "    </tr>\n",
       "    <tr>\n",
       "      <th>30112</th>\n",
       "      <td>10-K</td>\n",
       "      <td>BOATIM INC.</td>\n",
       "      <td>1622231</td>\n",
       "      <td>2022-01-03</td>\n",
       "      <td>0001640334-22-000006</td>\n",
       "    </tr>\n",
       "    <tr>\n",
       "      <th>30113</th>\n",
       "      <td>10-K/A</td>\n",
       "      <td>CITIC Capital Acquisition Corp.</td>\n",
       "      <td>1794621</td>\n",
       "      <td>2022-01-03</td>\n",
       "      <td>0001193125-22-000226</td>\n",
       "    </tr>\n",
       "  </tbody>\n",
       "</table>\n",
       "<p>30114 rows × 5 columns</p>\n",
       "</div>"
      ],
      "text/plain": [
       "         form                             company      cik filing_date  \\\n",
       "0        10-Q                 Hanjiao Group, Inc.  1421819  2022-12-30   \n",
       "1        10-Q                   Minerva Gold Inc.  1854816  2022-12-30   \n",
       "2        10-K  Jupiter Wellness Acquisition Corp.  1883799  2022-12-30   \n",
       "3        10-K               Kingfish Holding Corp  1374881  2022-12-30   \n",
       "4        10-K    NORTH EUROPEAN OIL ROYALTY TRUST    72633  2022-12-30   \n",
       "...       ...                                 ...      ...         ...   \n",
       "30109  10-Q/A               Ares Acquisition Corp  1829432  2022-01-03   \n",
       "30110  10-Q/A             Corsair Partnering Corp  1842659  2022-01-03   \n",
       "30111  10-Q/A  VPC Impact Acquisition Holdings II  1840792  2022-01-03   \n",
       "30112    10-K                         BOATIM INC.  1622231  2022-01-03   \n",
       "30113  10-K/A     CITIC Capital Acquisition Corp.  1794621  2022-01-03   \n",
       "\n",
       "           accession_number  \n",
       "0      0001683168-22-008697  \n",
       "1      0001477932-22-009570  \n",
       "2      0001493152-22-037163  \n",
       "3      0001477932-22-009583  \n",
       "4      0000072633-22-000015  \n",
       "...                     ...  \n",
       "30109  0001628280-22-000111  \n",
       "30110  0001140361-22-000145  \n",
       "30111  0001193125-22-000672  \n",
       "30112  0001640334-22-000006  \n",
       "30113  0001193125-22-000226  \n",
       "\n",
       "[30114 rows x 5 columns]"
      ]
     },
     "execution_count": 7,
     "metadata": {},
     "output_type": "execute_result"
    }
   ],
   "source": [
    "df = filings.to_pandas()  # Convert to a pandas DataFrame\n",
    "df"
   ]
  },
  {
   "cell_type": "code",
   "execution_count": null,
   "id": "2444d959",
   "metadata": {},
   "outputs": [],
   "source": [
    "# Additional filtering\n",
    "\n",
    "# Get filings for 2021\n",
    "filings_ = get_filings(2021) \n",
    "\n",
    "# Get filings for 2021 Q4\n",
    "filings_ = get_filings(2021, 4) \n",
    "\n",
    "# Get filings for 2021 Q3 and Q4\n",
    "filings_ = get_filings(2021, [3,4]) \n",
    "\n",
    "# Get filings for 2020 and 2021\n",
    "filings_ = get_filings([2020, 2021]) \n",
    "\n",
    "# Get filings for Q4 of 2020 and 2021\n",
    "filings_ = get_filings([2020, 2021], 4) \n",
    "\n",
    "# Get filings between 2010 and 2021 - does not include 2021\n",
    "filings_ = get_filings(range(2010, 2021)) \n",
    "\n",
    "# Get filings for 2021 Q4 for form D\n",
    "filings_ = get_filings(2021, 4, form=\"D\") \n",
    "\n",
    "# Get filings for 2021 Q4 on \"2021-10-01\"\n",
    "filings_ = get_filings(2021, 4, filing_date=\"2021-10-01\") \n",
    "\n",
    "# Get filings for 2021 Q4 between \"2021-10-01\" and \"2021-10-10\"\n",
    "filings_ = get_filings(2021, 4, filing_date=\"2021-10-01:2021-10-10\") "
   ]
  },
  {
   "cell_type": "code",
   "execution_count": 13,
   "id": "990c0b30",
   "metadata": {},
   "outputs": [
    {
     "data": {
      "text/plain": [
       "7792"
      ]
     },
     "execution_count": 13,
     "metadata": {},
     "output_type": "execute_result"
    }
   ],
   "source": [
    "# Filtering using Filings.filter\n",
    "filings = filings.filter(form=['10-K'])  # Filter the filings object for 10-K and 10-Q forms\n",
    "len(filings)  # Check how many filings were returned"
   ]
  },
  {
   "cell_type": "code",
   "execution_count": null,
   "id": "69406aa1",
   "metadata": {},
   "outputs": [
    {
     "data": {
      "text/plain": [
       "4"
      ]
     },
     "execution_count": 17,
     "metadata": {},
     "output_type": "execute_result"
    }
   ],
   "source": [
    "# Other filtering options\n",
    "filings = filings.filter(cik='0000320193')  # Filter by CIK\n",
    "filings = filings.filter(ticker='AAPL')  # Filter by ticker\n",
    "filings = filings.filter(accession_number='0000320193-22-000010')  # Filter by accession number \n",
    "len(filings)  # Check how many filings were returned"
   ]
  },
  {
   "cell_type": "code",
   "execution_count": null,
   "id": "fac367ed",
   "metadata": {},
   "outputs": [
    {
     "data": {
      "text/plain": [
       "119956"
      ]
     },
     "execution_count": 23,
     "metadata": {},
     "output_type": "execute_result"
    }
   ],
   "source": [
    "use_local_storage = True  # Use local storage to speed up the process\n",
    "filings = get_filings().filter(exchange='NASDAQ')  # Filter by industry\n",
    "len(filings)  # Check how many filings were returned"
   ]
  }
 ],
 "metadata": {
  "kernelspec": {
   "display_name": ".venv",
   "language": "python",
   "name": "python3"
  },
  "language_info": {
   "codemirror_mode": {
    "name": "ipython",
    "version": 3
   },
   "file_extension": ".py",
   "mimetype": "text/x-python",
   "name": "python",
   "nbconvert_exporter": "python",
   "pygments_lexer": "ipython3",
   "version": "3.13.5"
  }
 },
 "nbformat": 4,
 "nbformat_minor": 5
}
